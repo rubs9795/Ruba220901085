{
 "cells": [
  {
   "cell_type": "code",
   "execution_count": 1,
   "id": "1501f013",
   "metadata": {},
   "outputs": [
    {
     "name": "stdout",
     "output_type": "stream",
     "text": [
      "Series from array:\n",
      "0    S\n",
      "1    a\n",
      "2    i\n",
      "3    r\n",
      "4    i\n",
      "5    s\n",
      "6    i\n",
      "dtype: object\n"
     ]
    }
   ],
   "source": [
    "import pandas as pd\n",
    "import numpy as np\n",
    "arr=np.array(['S','a','i','r','i','s','i'])\n",
    "a=pd.Series(arr)\n",
    "print(\"Series from array:\")\n",
    "print(a)"
   ]
  },
  {
   "cell_type": "code",
   "execution_count": 2,
   "id": "9ddfd58e",
   "metadata": {},
   "outputs": [
    {
     "name": "stdout",
     "output_type": "stream",
     "text": [
      "\n",
      "\n",
      "Series from dictionary:\n",
      "\n",
      "a    0\n",
      "b    1\n",
      "c    2\n",
      "dtype: int64\n"
     ]
    }
   ],
   "source": [
    "arr={'a':0,'b':1,'c':2}\n",
    "b= pd.Series(arr)\n",
    "print(\"\\n\\nSeries from dictionary:\\n\")\n",
    "print(b)\n"
   ]
  },
  {
   "cell_type": "code",
   "execution_count": 3,
   "id": "8b38b5f0",
   "metadata": {},
   "outputs": [
    {
     "name": "stdout",
     "output_type": "stream",
     "text": [
      "\n",
      "Series using scalar\n",
      "\n",
      "0    4\n",
      "1    4\n",
      "2    4\n",
      "3    4\n",
      "dtype: int64\n"
     ]
    }
   ],
   "source": [
    "x=pd.Series(4,index=[0,1,2,3])\n",
    "print(\"\\nSeries using scalar\\n\")\n",
    "print(x)\n"
   ]
  },
  {
   "cell_type": "code",
   "execution_count": 4,
   "id": "bdd4b8ea",
   "metadata": {},
   "outputs": [
    {
     "name": "stdout",
     "output_type": "stream",
     "text": [
      "\n",
      "Series through index:\n",
      "s    1\n",
      "a    2\n",
      "i    3\n",
      "dtype: int64\n"
     ]
    }
   ],
   "source": [
    "x = pd.Series([1,2,3], index = ['s','a','i'])\n",
    "print(\"\\nSeries through index:\")\n",
    "print(x)\n"
   ]
  },
  {
   "cell_type": "code",
   "execution_count": null,
   "id": "cb3331a6",
   "metadata": {},
   "outputs": [],
   "source": []
  },
  {
   "cell_type": "code",
   "execution_count": 5,
   "id": "be17a322",
   "metadata": {},
   "outputs": [
    {
     "name": "stdout",
     "output_type": "stream",
     "text": [
      "\n",
      " a series:\n",
      " 0    S\n",
      "1    a\n",
      "2    i\n",
      "3    r\n",
      "4    i\n",
      "5    s\n",
      "6    i\n",
      "dtype: object\n",
      "\n",
      "index: \n",
      " RangeIndex(start=0, stop=7, step=1)\n",
      "\n",
      "Values: \n",
      " ['S' 'a' 'i' 'r' 'i' 's' 'i']\n",
      "\n",
      "Shape: (7,)\n",
      "\n",
      "Dimension: 1\n",
      "\n",
      "Size: 7\n"
     ]
    }
   ],
   "source": [
    "print(\"\\n a series:\\n\",a)\n",
    "print(\"\\nindex: \\n\",a.index)\n",
    "print(\"\\nValues: \\n\",a.values)\n",
    "print(\"\\nShape:\",a.shape)\n",
    "print(\"\\nDimension:\",a.ndim)\n",
    "print(\"\\nSize:\",a.size)\n"
   ]
  },
  {
   "cell_type": "code",
   "execution_count": null,
   "id": "ab6373c0",
   "metadata": {},
   "outputs": [],
   "source": []
  }
 ],
 "metadata": {
  "kernelspec": {
   "display_name": "Python 3 (ipykernel)",
   "language": "python",
   "name": "python3"
  },
  "language_info": {
   "codemirror_mode": {
    "name": "ipython",
    "version": 3
   },
   "file_extension": ".py",
   "mimetype": "text/x-python",
   "name": "python",
   "nbconvert_exporter": "python",
   "pygments_lexer": "ipython3",
   "version": "3.9.12"
  }
 },
 "nbformat": 4,
 "nbformat_minor": 5
}
