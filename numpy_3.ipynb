{
 "cells": [
  {
   "cell_type": "code",
   "execution_count": 1,
   "id": "70d4e0fc",
   "metadata": {},
   "outputs": [
    {
     "name": "stdout",
     "output_type": "stream",
     "text": [
      "(array([1, 4], dtype=int64),)\n"
     ]
    }
   ],
   "source": [
    "import numpy as np\n",
    "arr=np.array([1,6,2,7,6,4])\n",
    "x=np.where(arr==6)\n",
    "print(x)"
   ]
  },
  {
   "cell_type": "code",
   "execution_count": 2,
   "id": "78d92bbc",
   "metadata": {},
   "outputs": [
    {
     "name": "stdout",
     "output_type": "stream",
     "text": [
      "(array([1, 2, 4, 5], dtype=int64),)\n"
     ]
    }
   ],
   "source": [
    "arr=np.array([1,6,2,7,6,4])\n",
    "x=np.where(arr%2==0)\n",
    "print(x)"
   ]
  },
  {
   "cell_type": "code",
   "execution_count": 3,
   "id": "0e000046",
   "metadata": {},
   "outputs": [
    {
     "name": "stdout",
     "output_type": "stream",
     "text": [
      "4\n"
     ]
    }
   ],
   "source": [
    "arr=np.array([0,1,2,2,7,8,9])\n",
    "x=np.searchsorted(arr,3,side='left')\n",
    "print(x)"
   ]
  },
  {
   "cell_type": "code",
   "execution_count": 5,
   "id": "3e1ac18d",
   "metadata": {},
   "outputs": [
    {
     "name": "stdout",
     "output_type": "stream",
     "text": [
      "6\n"
     ]
    }
   ],
   "source": [
    "arr=np.array([0,1,2,2,7,8,9])\n",
    "x=np.searchsorted(arr,8,side='right')\n",
    "print(x)"
   ]
  },
  {
   "cell_type": "code",
   "execution_count": 6,
   "id": "45bf7ed1",
   "metadata": {},
   "outputs": [
    {
     "name": "stdout",
     "output_type": "stream",
     "text": [
      "[2 4 5 6 7 9]\n",
      "[[4 7 9]\n",
      " [1 4 9]]\n"
     ]
    }
   ],
   "source": [
    "arr=np.array([9,5,2,7,6,4])\n",
    "print(np.sort(arr))\n",
    "arr=np.array([[7,4,9],[9,1,4]])\n",
    "print(np.sort(arr))"
   ]
  },
  {
   "cell_type": "code",
   "execution_count": 7,
   "id": "9716fa2e",
   "metadata": {},
   "outputs": [
    {
     "name": "stdout",
     "output_type": "stream",
     "text": [
      "[False, True, True, False]\n",
      "[78 69]\n"
     ]
    }
   ],
   "source": [
    "arr=np.array([31,78,69,88])\n",
    "x=[False,True,True,False]\n",
    "newarr=arr[x]\n",
    "print(x)\n",
    "print(newarr)"
   ]
  },
  {
   "cell_type": "code",
   "execution_count": 8,
   "id": "212163c5",
   "metadata": {},
   "outputs": [
    {
     "name": "stdout",
     "output_type": "stream",
     "text": [
      "[False  True False  True]\n",
      "[78 88]\n"
     ]
    }
   ],
   "source": [
    "arr=np.array([31,78,69,88])\n",
    "filter_arr=arr>70\n",
    "newarr=arr[filter_arr]\n",
    "print(filter_arr)\n",
    "print(newarr)"
   ]
  },
  {
   "cell_type": "code",
   "execution_count": null,
   "id": "8cbf88ea",
   "metadata": {},
   "outputs": [],
   "source": []
  }
 ],
 "metadata": {
  "kernelspec": {
   "display_name": "Python 3 (ipykernel)",
   "language": "python",
   "name": "python3"
  },
  "language_info": {
   "codemirror_mode": {
    "name": "ipython",
    "version": 3
   },
   "file_extension": ".py",
   "mimetype": "text/x-python",
   "name": "python",
   "nbconvert_exporter": "python",
   "pygments_lexer": "ipython3",
   "version": "3.9.12"
  }
 },
 "nbformat": 4,
 "nbformat_minor": 5
}
