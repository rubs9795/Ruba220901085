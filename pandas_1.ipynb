{
 "cells": [
  {
   "cell_type": "code",
   "execution_count": 2,
   "id": "4b3d07f6",
   "metadata": {},
   "outputs": [
    {
     "name": "stdout",
     "output_type": "stream",
     "text": [
      "Empty DataFrame\n",
      "Columns: []\n",
      "Index: []\n"
     ]
    }
   ],
   "source": [
    "import pandas as pd\n",
    "df=pd.DataFrame()\n",
    "print(df)"
   ]
  },
  {
   "cell_type": "code",
   "execution_count": 3,
   "id": "79068045",
   "metadata": {},
   "outputs": [
    {
     "name": "stdout",
     "output_type": "stream",
     "text": [
      "\n",
      "Series to Data Frame\n",
      "\n",
      "         Emp  ID\n",
      "0   Dharshan  80\n",
      "1     Sudeep  90\n",
      "2       Siva  28\n",
      "3       Yash  57\n",
      "4  Keerthana  49\n"
     ]
    }
   ],
   "source": [
    "import pandas as pd\n",
    "emp=pd.Series(['Dharshan','Sudeep','Siva','Yash','Keerthana'])\n",
    "id=pd.Series([80,90,28,57,49])\n",
    "frame={'Emp':emp,'ID':id}\n",
    "result=pd.DataFrame(frame)\n",
    "print(\"\\nSeries to Data Frame\\n\")\n",
    "print(result)"
   ]
  },
  {
   "cell_type": "code",
   "execution_count": 4,
   "id": "44241c60",
   "metadata": {},
   "outputs": [
    {
     "name": "stdout",
     "output_type": "stream",
     "text": [
      "\n",
      "Extracting one column:\n",
      "\n",
      "0     Dharshan\n",
      "1       Sudeep\n",
      "2         Siva\n",
      "3         Yash\n",
      "4    Keerthana\n",
      "Name: Emp, dtype: object\n"
     ]
    }
   ],
   "source": [
    "print(\"\\nExtracting one column:\\n\")\n",
    "print(result['Emp'])\n"
   ]
  },
  {
   "cell_type": "code",
   "execution_count": 5,
   "id": "be16723f",
   "metadata": {},
   "outputs": [
    {
     "name": "stdout",
     "output_type": "stream",
     "text": [
      "\n",
      "Adding new column:\n",
      "\n",
      "         Emp  ID  Age\n",
      "0   Dharshan  80   19\n",
      "1     Sudeep  90   90\n",
      "2       Siva  28   34\n",
      "3       Yash  56   67\n",
      "4  Keerthana  89   20\n"
     ]
    }
   ],
   "source": [
    "print(\"\\nAdding new column:\\n\")\n",
    "result['ID']=pd.Series([80,90,28,56,89])\n",
    "result['Age']=pd.Series([19,90,34,67,20])\n",
    "print(result)\n"
   ]
  },
  {
   "cell_type": "code",
   "execution_count": 6,
   "id": "354bee7b",
   "metadata": {},
   "outputs": [
    {
     "name": "stdout",
     "output_type": "stream",
     "text": [
      "\n",
      "Deleting new column:\n",
      "\n",
      "         Emp  ID\n",
      "0   Dharshan  80\n",
      "1     Sudeep  90\n",
      "2       Siva  28\n",
      "3       Yash  56\n",
      "4  Keerthana  89\n"
     ]
    }
   ],
   "source": [
    "print(\"\\nDeleting new column:\\n\")\n",
    "del result['Age']\n",
    "print(result)"
   ]
  },
  {
   "cell_type": "code",
   "execution_count": 7,
   "id": "13567f8d",
   "metadata": {},
   "outputs": [
    {
     "name": "stdout",
     "output_type": "stream",
     "text": [
      "\n",
      "Extracting the second row:\n",
      "\n",
      "Emp    Sudeep\n",
      "ID         90\n",
      "Name: 1, dtype: object\n"
     ]
    }
   ],
   "source": [
    "print(\"\\nExtracting the second row:\\n\")\n",
    "print(result.loc[1])"
   ]
  },
  {
   "cell_type": "code",
   "execution_count": 8,
   "id": "5631ee1b",
   "metadata": {},
   "outputs": [
    {
     "name": "stdout",
     "output_type": "stream",
     "text": [
      "Slice rows:\n",
      "       Emp  ID\n",
      "1  Sudeep  90\n",
      "2    Siva  28\n",
      "3    Yash  56\n"
     ]
    }
   ],
   "source": [
    "print(\"Slice rows:\\n\",result[1:4])"
   ]
  },
  {
   "cell_type": "code",
   "execution_count": 9,
   "id": "d72c653a",
   "metadata": {},
   "outputs": [
    {
     "name": "stdout",
     "output_type": "stream",
     "text": [
      "\n",
      "Adding new row values:\n",
      "          Emp   ID\n",
      "0   Dharshan   80\n",
      "1     Sudeep   90\n",
      "2       Siva   28\n",
      "3       Yash   56\n",
      "4  Keerthana   89\n",
      "0      Vicky  100\n",
      "1     Rashid  109\n"
     ]
    },
    {
     "name": "stderr",
     "output_type": "stream",
     "text": [
      "C:\\Users\\Tcs\\AppData\\Local\\Temp\\ipykernel_9724\\3818850912.py:2: FutureWarning: The frame.append method is deprecated and will be removed from pandas in a future version. Use pandas.concat instead.\n",
      "  print(\"\\nAdding new row values:\\n\",result.append(d2))\n"
     ]
    }
   ],
   "source": [
    "d2=pd.DataFrame([['Vicky',100],['Rashid',109]],columns=['Emp','ID'])\n",
    "print(\"\\nAdding new row values:\\n\",result.append(d2))\n"
   ]
  },
  {
   "cell_type": "code",
   "execution_count": 10,
   "id": "05f5bc0c",
   "metadata": {},
   "outputs": [
    {
     "name": "stdout",
     "output_type": "stream",
     "text": [
      "\n",
      "Deleting particular row:\n",
      "          Emp  ID\n",
      "0   Dharshan  80\n",
      "1     Sudeep  90\n",
      "3       Yash  56\n",
      "4  Keerthana  89\n"
     ]
    }
   ],
   "source": [
    "print(\"\\nDeleting particular row:\\n\",result.drop(2))"
   ]
  },
  {
   "cell_type": "code",
   "execution_count": null,
   "id": "b7c087de",
   "metadata": {},
   "outputs": [],
   "source": []
  }
 ],
 "metadata": {
  "kernelspec": {
   "display_name": "Python 3 (ipykernel)",
   "language": "python",
   "name": "python3"
  },
  "language_info": {
   "codemirror_mode": {
    "name": "ipython",
    "version": 3
   },
   "file_extension": ".py",
   "mimetype": "text/x-python",
   "name": "python",
   "nbconvert_exporter": "python",
   "pygments_lexer": "ipython3",
   "version": "3.9.12"
  }
 },
 "nbformat": 4,
 "nbformat_minor": 5
}
