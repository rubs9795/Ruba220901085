{
 "cells": [
  {
   "cell_type": "code",
   "execution_count": 1,
   "id": "3cf5072c",
   "metadata": {},
   "outputs": [
    {
     "name": "stdout",
     "output_type": "stream",
     "text": [
      "DataFrame.apply function:\n",
      "\n",
      "\n",
      "Original DataFrame:\n",
      "    S  R\n",
      "0  3  9\n",
      "1  3  9\n",
      "2  3  9\n",
      "3  3  9\n",
      "\n",
      "Square root of DataFrame:\n",
      "           S    R\n",
      "0  1.732051  3.0\n",
      "1  1.732051  3.0\n",
      "2  1.732051  3.0\n",
      "3  1.732051  3.0\n",
      "\n",
      "Sum of each column:\n",
      " S    12\n",
      "R    36\n",
      "dtype: int64\n",
      "\n",
      "Sum of each row:\n",
      " 0    12\n",
      "1    12\n",
      "2    12\n",
      "3    12\n",
      "dtype: int64\n"
     ]
    }
   ],
   "source": [
    "import pandas as pd\n",
    "import numpy as np\n",
    "print(\"DataFrame.apply function:\\n\")\n",
    "info = pd.DataFrame ([[3, 9]]*4 , columns =['S' ,'R'])\n",
    "print(\"\\nOriginal DataFrame:\\n\", info)\n",
    "print(\"\\nSquare root of DataFrame:\\n\", info.apply(np.sqrt))\n",
    "print(\"\\nSum of each column:\\n\", info.apply(np.sum, axis=0))\n",
    "print(\"\\nSum of each row:\\n\", info.apply(np.sum,axis=1))\n"
   ]
  },
  {
   "cell_type": "code",
   "execution_count": 5,
   "id": "bc0d1c90",
   "metadata": {},
   "outputs": [
    {
     "name": "stdout",
     "output_type": "stream",
     "text": [
      "\n",
      "Original DataFrame:\n",
      "    X  Y  Z\n",
      "0  2  4  6\n",
      "1  1  3  5\n",
      "2  5  8  7\n",
      "\n",
      "Minimum and Maximum of each column: \n",
      "\n",
      "     X  Y  Z\n",
      "min  1  3  5\n",
      "max  5  8  7\n"
     ]
    }
   ],
   "source": [
    "info=pd.DataFrame([[2,4,6],[1,3,5],[5,8,7]],columns =['X','Y','Z'])\n",
    "print(\"\\nOriginal DataFrame:\\n\", info)\n",
    "print(\"\\nMinimum and Maximum of each column: \\n\")\n",
    "print(info.agg(['min','max']))\n"
   ]
  },
  {
   "cell_type": "code",
   "execution_count": 6,
   "id": "a8685a97",
   "metadata": {},
   "outputs": [
    {
     "name": "stdout",
     "output_type": "stream",
     "text": [
      "\n",
      "DataFrame.Assign function:\n",
      "\n",
      "\n",
      "Original DataFrame:\n",
      "    Emp  ID\n",
      "0  Sai  88\n",
      "1  Poo  70\n",
      "\n",
      "Adding new column:\n",
      "    Emp  ID  Age\n",
      "0  Sai  88   20\n",
      "1  Poo  70   18\n",
      "\n",
      "Adding new column:\n",
      "    Emp  ID  Age   Sex\n",
      "0  Sai  88   20  Male\n",
      "1  Poo  70   18  Male\n"
     ]
    }
   ],
   "source": [
    "print(\"\\nDataFrame.Assign function:\\n\")\n",
    "d2 = pd.DataFrame([['Sai',88], ['Poo',70]], columns=['Emp','ID'])\n",
    "print(\"\\nOriginal DataFrame:\\n\",d2)\n",
    "d2['Age']=[20,18]\n",
    "print(\"\\nAdding new column:\\n\",d2)\n",
    "d=d2.assign(Sex=['Male','Male'])\n",
    "print(\"\\nAdding new column:\\n\",d)"
   ]
  },
  {
   "cell_type": "code",
   "execution_count": 7,
   "id": "eaa67cdf",
   "metadata": {},
   "outputs": [
    {
     "name": "stdout",
     "output_type": "stream",
     "text": [
      "\n",
      "DataFrame Sort function:\n",
      "\n",
      "       col3      col4\n",
      "3 -0.225641  0.717282\n",
      "2  3.366087  0.129199\n",
      "0 -0.506401 -1.135678\n",
      "4 -0.880482 -0.911734\n",
      "1 -0.791667  0.180059\n",
      "\n",
      "Sort index:\n",
      "        col3      col4\n",
      "0 -0.506401 -1.135678\n",
      "1 -0.791667  0.180059\n",
      "2  3.366087  0.129199\n",
      "3 -0.225641  0.717282\n",
      "4 -0.880482 -0.911734\n",
      "\n",
      "Sort Values:\n",
      "        col3      col4\n",
      "4 -0.880482 -0.911734\n",
      "1 -0.791667  0.180059\n",
      "0 -0.506401 -1.135678\n",
      "3 -0.225641  0.717282\n",
      "2  3.366087  0.129199\n"
     ]
    }
   ],
   "source": [
    "print(\"\\nDataFrame Sort function:\\n\")\n",
    "info=pd.DataFrame(np.random.randn(5,2),index=[3,2,0,4,1],columns=['col3','col4'])\n",
    "print(info)\n",
    "info2=info.sort_index()\n",
    "print(\"\\nSort index:\\n\",info2)                                                                                                                                                                                                                                                                                                   \n",
    "info3 = info.sort_values(by='col3')\n",
    "print(\"\\nSort Values:\\n\",info3)"
   ]
  },
  {
   "cell_type": "code",
   "execution_count": 8,
   "id": "9a839ce4",
   "metadata": {},
   "outputs": [
    {
     "name": "stdout",
     "output_type": "stream",
     "text": [
      "\n",
      "DataFrame.Merge function:\n",
      "\n",
      "   id  Name   sub\n",
      "0   1   Sai  sub1\n",
      "1   2   Poo  sub2\n",
      "2   3  Sabb  sub4\n",
      "3   4  Yuvi  sub3\n",
      "   id    Name   sub\n",
      "0   1  Sanjay  sub2\n",
      "1   2   Saran  sub4\n",
      "2   3     Som  sub3\n",
      "3   4    Ruba  sub5\n",
      "   id Name_x sub_x  Name_y sub_y\n",
      "0   1    Sai  sub1  Sanjay  sub2\n",
      "1   2    Poo  sub2   Saran  sub4\n",
      "2   3   Sabb  sub4     Som  sub3\n",
      "3   4   Yuvi  sub3    Ruba  sub5\n"
     ]
    }
   ],
   "source": [
    "print(\"\\nDataFrame.Merge function:\\n\")\n",
    "left=pd.DataFrame({'id': [1,2,3,4],\n",
    "                    'Name': ['Sai', 'Poo', 'Sabb', 'Yuvi'],\n",
    "                    'sub': ['sub1', 'sub2', 'sub4','sub3']})\n",
    "\n",
    "right=pd.DataFrame({\n",
    "                    'id':[1,2,3,4],\n",
    "                    'Name': ['Sanjay', 'Saran', 'Som', 'Ruba'],\n",
    "                    'sub':['sub2', 'sub4', 'sub3', 'sub5']})\n",
    "print(left)\n",
    "print(right)\n",
    "print(pd.merge(left,right,on=\"id\"))"
   ]
  },
  {
   "cell_type": "code",
   "execution_count": null,
   "id": "4ce58917",
   "metadata": {},
   "outputs": [],
   "source": []
  }
 ],
 "metadata": {
  "kernelspec": {
   "display_name": "Python 3 (ipykernel)",
   "language": "python",
   "name": "python3"
  },
  "language_info": {
   "codemirror_mode": {
    "name": "ipython",
    "version": 3
   },
   "file_extension": ".py",
   "mimetype": "text/x-python",
   "name": "python",
   "nbconvert_exporter": "python",
   "pygments_lexer": "ipython3",
   "version": "3.9.12"
  }
 },
 "nbformat": 4,
 "nbformat_minor": 5
}
