{
 "cells": [
  {
   "cell_type": "code",
   "execution_count": 13,
   "id": "3f30550c",
   "metadata": {},
   "outputs": [
    {
     "name": "stdout",
     "output_type": "stream",
     "text": [
      "[[ 3.   6.   9.   1. ]\n",
      " [ 6.  -0.6  8.   9. ]\n",
      " [ 4.8  1.   0.1  8. ]\n",
      " [ 4.   7.  -9.   4. ]]\n"
     ]
    }
   ],
   "source": [
    "import numpy as np \n",
    "arr=np.array([[3,6,9,1],\n",
    "              [6,-0.6,8,9],\n",
    "             [4.8,1,0.1,8],\n",
    "             [4,7,-9,4.0]])\n",
    "print(arr)"
   ]
  },
  {
   "cell_type": "code",
   "execution_count": 9,
   "id": "cbcf8f25",
   "metadata": {},
   "outputs": [
    {
     "name": "stdout",
     "output_type": "stream",
     "text": [
      "[list([3, 6, 9, 1]) list([4.8, 1, 0.1, 8])]\n"
     ]
    }
   ],
   "source": [
    "print(arr[0:3:2])"
   ]
  },
  {
   "cell_type": "code",
   "execution_count": 14,
   "id": "3efd899a",
   "metadata": {},
   "outputs": [
    {
     "name": "stdout",
     "output_type": "stream",
     "text": [
      "[[3. 6.]]\n"
     ]
    }
   ],
   "source": [
    "temp=arr[:1,:2]\n",
    "print(temp)"
   ]
  },
  {
   "cell_type": "code",
   "execution_count": 17,
   "id": "45dd032a",
   "metadata": {},
   "outputs": [
    {
     "name": "stdout",
     "output_type": "stream",
     "text": [
      "[6.  4.  9.  0.1]\n",
      "[3.  6.  9.  6.  8.  9.  4.8 8.  4.  7.  4. ]\n"
     ]
    }
   ],
   "source": [
    "temp=arr[[0,3,1,2],[1,0,3,2]]\n",
    "print(temp)\n",
    "cond=arr>2\n",
    "temp=arr[cond]\n",
    "print(temp)"
   ]
  },
  {
   "cell_type": "code",
   "execution_count": 18,
   "id": "48cf6fdf",
   "metadata": {},
   "outputs": [
    {
     "name": "stdout",
     "output_type": "stream",
     "text": [
      "[2 6 8 4 5 0 9]\n",
      "[2 0]\n"
     ]
    }
   ],
   "source": [
    "arr=np.array([2,6,8,4,5,0,9])\n",
    "print(arr)\n",
    "print(arr[::5])"
   ]
  },
  {
   "cell_type": "code",
   "execution_count": 19,
   "id": "0eb8e848",
   "metadata": {},
   "outputs": [
    {
     "name": "stdout",
     "output_type": "stream",
     "text": [
      "[3 7 6] [2 9 3]\n",
      "[3 7 6 2 9 3]\n"
     ]
    }
   ],
   "source": [
    "arr1=np.array([3,7,6])\n",
    "arr2=np.array([2,9,3])\n",
    "arr=np.concatenate((arr1,arr2))\n",
    "print(arr1,arr2)\n",
    "print(arr)"
   ]
  },
  {
   "cell_type": "code",
   "execution_count": 20,
   "id": "85ff7dba",
   "metadata": {},
   "outputs": [
    {
     "name": "stdout",
     "output_type": "stream",
     "text": [
      "[[3 7 6]\n",
      " [2 9 3]]\n"
     ]
    }
   ],
   "source": [
    "arr=np.vstack((arr1,arr2))\n",
    "print(arr)"
   ]
  },
  {
   "cell_type": "code",
   "execution_count": 21,
   "id": "c4ca14f8",
   "metadata": {},
   "outputs": [
    {
     "name": "stdout",
     "output_type": "stream",
     "text": [
      "[[[3 2]\n",
      "  [7 9]\n",
      "  [6 3]]]\n"
     ]
    }
   ],
   "source": [
    "arr=np.dstack((arr1,arr2))\n",
    "print(arr)\n"
   ]
  },
  {
   "cell_type": "code",
   "execution_count": 22,
   "id": "d6497a52",
   "metadata": {},
   "outputs": [
    {
     "name": "stdout",
     "output_type": "stream",
     "text": [
      "[array([2, 6]), array([8, 4]), array([5]), array([0]), array([9])]\n"
     ]
    }
   ],
   "source": [
    "arr=np.array([2,6,8,4,5,0,9])\n",
    "newarr=np.array_split(arr,5)\n",
    "print(newarr)"
   ]
  },
  {
   "cell_type": "code",
   "execution_count": null,
   "id": "4fa2fb22",
   "metadata": {},
   "outputs": [],
   "source": []
  }
 ],
 "metadata": {
  "kernelspec": {
   "display_name": "Python 3 (ipykernel)",
   "language": "python",
   "name": "python3"
  },
  "language_info": {
   "codemirror_mode": {
    "name": "ipython",
    "version": 3
   },
   "file_extension": ".py",
   "mimetype": "text/x-python",
   "name": "python",
   "nbconvert_exporter": "python",
   "pygments_lexer": "ipython3",
   "version": "3.9.12"
  }
 },
 "nbformat": 4,
 "nbformat_minor": 5
}
